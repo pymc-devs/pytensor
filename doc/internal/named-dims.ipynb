{
 "cells": [
  {
   "cell_type": "code",
   "execution_count": null,
   "id": "8e7ecdb3-7df3-49a7-bab5-f63455d43581",
   "metadata": {},
   "outputs": [],
   "source": [
    "import numpy as np\n",
    "import xarray as xr"
   ]
  },
  {
   "cell_type": "code",
   "execution_count": null,
   "id": "4319db8d-a559-473d-a298-6b6df67db50b",
   "metadata": {},
   "outputs": [],
   "source": [
    "class Subset:\n",
    "    pass\n",
    "\n",
    "\n",
    "class Slice(Subset):\n",
    "    slice: slice\n",
    "\n",
    "\n",
    "class IndexSet(Subset):\n",
    "    values: [int]\n",
    "\n",
    "\n",
    "class Dynamic(Subset):\n",
    "    pass\n",
    "\n",
    "\n",
    "class SubsetType:\n",
    "    base: DimType\n",
    "    subset: list[Subset]"
   ]
  },
  {
   "cell_type": "code",
   "execution_count": null,
   "id": "ea87cffe-d576-4b0f-8ddc-f26593a361e6",
   "metadata": {},
   "outputs": [],
   "source": [
    "x_sub, x_sub2 = px.project_to_shared_dim(x[:-1], x[1:], dim=foo)"
   ]
  },
  {
   "cell_type": "code",
   "execution_count": null,
   "id": "5093c6c2-2e5d-4215-8d6a-c519f800d93b",
   "metadata": {},
   "outputs": [],
   "source": [
    "foo = px.dim()\n",
    "x = px.xtensor(foo)\n",
    "\n",
    "# Example 1\n",
    "x[:-1].pad_to_dim(foo, fill_value=0.0)\n",
    "\n",
    "# example 2\n",
    "left_part, right_part = foo.intersect_and_align(x[:-1], x[1:])\n",
    "left_part + right_part\n",
    "\n",
    "# example 3\n",
    "x[1:] + x[:-1].with_dims_like(x[1:])"
   ]
  },
  {
   "cell_type": "code",
   "execution_count": 113,
   "id": "8b73d0c8-69f8-4752-8d9c-ca758dfa82a1",
   "metadata": {},
   "outputs": [
    {
     "name": "stderr",
     "output_type": "stream",
     "text": [
      "/home/adr/git/pytensor/pytensor/xtensor/__init__.py:18: UserWarning: xtensor module is experimental and full of bugs\n",
      "  warnings.warn(\"xtensor module is experimental and full of bugs\")\n"
     ]
    }
   ],
   "source": [
    "import pytensor\n",
    "import pytensor.tensor as pt\n",
    "import pytensor.xtensor as px\n",
    "import pytest"
   ]
  },
  {
   "cell_type": "code",
   "execution_count": 116,
   "id": "b62c5cd7-9e4d-4ac3-9f71-23dec2d7ae89",
   "metadata": {},
   "outputs": [
    {
     "data": {
      "text/plain": [
       "BasicDim(foo, uuid=?)"
      ]
     },
     "execution_count": 116,
     "metadata": {},
     "output_type": "execute_result"
    }
   ],
   "source": [
    "foo = px.dim(\"foo\")\n",
    "foo.type"
   ]
  },
  {
   "cell_type": "code",
   "execution_count": 3,
   "id": "1de5f25f-d09a-48ca-b49e-53b0649a76f2",
   "metadata": {},
   "outputs": [
    {
     "data": {
      "text/plain": [
       "[array(5.)]"
      ]
     },
     "execution_count": 3,
     "metadata": {},
     "output_type": "execute_result"
    }
   ],
   "source": [
    "foo = px.dim(\"foo\")\n",
    "x = px.ones(foo, name=\"x\")\n",
    "func = pytensor.function([foo], [x.sum(foo)], mode=\"FAST_RUN\")\n",
    "func(5)"
   ]
  },
  {
   "cell_type": "code",
   "execution_count": 4,
   "id": "be07b1b5-2b49-480f-a66b-4d6bf426b1da",
   "metadata": {},
   "outputs": [
    {
     "data": {
      "text/plain": [
       "[array(0.)]"
      ]
     },
     "execution_count": 4,
     "metadata": {},
     "output_type": "execute_result"
    }
   ],
   "source": [
    "foo = px.dim(\"foo\")\n",
    "x = px.ones(foo, name=\"x\")\n",
    "func = pytensor.function([foo], [x.std(foo)], mode=\"FAST_RUN\")\n",
    "func(5)"
   ]
  },
  {
   "cell_type": "code",
   "execution_count": 5,
   "id": "abf9055e-c0be-4bb8-aec0-f8f723f387ae",
   "metadata": {},
   "outputs": [
    {
     "name": "stdout",
     "output_type": "stream",
     "text": [
      "FromLength{dim_type=BasicDim(bar, uuid=?)} [id A] 'bar'\n",
      " └─ TensorFromScalar [id B]\n",
      "    └─ <int64> [id C]\n"
     ]
    }
   ],
   "source": [
    "length = pytensor.scalar.basic.int64()\n",
    "bar = px.dim(\"bar\", size=length)\n",
    "bar.dprint();"
   ]
  },
  {
   "cell_type": "code",
   "execution_count": 6,
   "id": "ca970d40-fd30-49a7-a1d2-a2a32281b43d",
   "metadata": {},
   "outputs": [
    {
     "name": "stdout",
     "output_type": "stream",
     "text": [
      "Clone{dim_type=CloneDim(bar2, base=BasicDim(bar, uuid=?), uuid=?)} [id A] 'bar2'\n",
      " └─ bar [id B]\n"
     ]
    }
   ],
   "source": [
    "bar = px.dim(\"bar\")\n",
    "bar2 = px.dim(\"bar2\", size=bar)\n",
    "# same as bar.clone_dim(\"bar2\")\n",
    "bar2.dprint();"
   ]
  },
  {
   "cell_type": "code",
   "execution_count": 7,
   "id": "a6f00cd4-d4fe-4889-a33b-8c7a2e6c582a",
   "metadata": {},
   "outputs": [
    {
     "data": {
      "text/plain": [
       "(foo, bar)"
      ]
     },
     "execution_count": 7,
     "metadata": {},
     "output_type": "execute_result"
    }
   ],
   "source": [
    "foo = px.dim(\"foo\")\n",
    "bar = foo.clone_dim(\"bar\")\n",
    "x = px.xtensor(\"x\", dims=[foo, bar])\n",
    "x.dims"
   ]
  },
  {
   "cell_type": "code",
   "execution_count": 8,
   "id": "2ae2b959-f64e-4739-bab5-61840a333471",
   "metadata": {},
   "outputs": [
    {
     "data": {
      "text/plain": [
       "[array([[2., 2., 2., 2., 2.],\n",
       "        [2., 2., 2., 2., 2.],\n",
       "        [2., 2., 2., 2., 2.]])]"
      ]
     },
     "execution_count": 8,
     "metadata": {},
     "output_type": "execute_result"
    }
   ],
   "source": [
    "foo = px.dim(\"foo\")\n",
    "bar = px.dim(\"bar\")\n",
    "z1 = px.ones(foo)\n",
    "z2 = px.ones(bar)\n",
    "func = pytensor.function([foo, bar], [z1 + z2])\n",
    "func(3, 5)"
   ]
  },
  {
   "cell_type": "code",
   "execution_count": 9,
   "id": "23bb0380-5fcf-4020-97f9-073edfa72719",
   "metadata": {},
   "outputs": [],
   "source": [
    "import numpy as np"
   ]
  },
  {
   "cell_type": "code",
   "execution_count": 10,
   "id": "b09ae469-ab34-402c-b13c-8f52cf140249",
   "metadata": {},
   "outputs": [
    {
     "name": "stdout",
     "output_type": "stream",
     "text": [
      "XTensorFromTensor [id A]\n",
      " ├─ SpecifyShape [id B]\n",
      " │  ├─ <Matrix(float64, shape=(?, ?))> [id C]\n",
      " │  ├─ Length [id D]\n",
      " │  │  └─ foo [id E]\n",
      " │  └─ Length [id F]\n",
      " │     └─ bar [id G]\n",
      " ├─ foo [id E]\n",
      " └─ bar [id G]\n"
     ]
    },
    {
     "data": {
      "text/plain": [
       "[array([[0., 0., 0., 0.],\n",
       "        [0., 0., 0., 0.],\n",
       "        [0., 0., 0., 0.]])]"
      ]
     },
     "execution_count": 10,
     "metadata": {},
     "output_type": "execute_result"
    }
   ],
   "source": [
    "foo = px.dim(\"foo\")\n",
    "bar = px.dim(\"bar\")\n",
    "z_tensor = pt.matrix()\n",
    "z_new = px.xtensor_from_tensor(z_tensor, [foo, bar], check=True)\n",
    "z_new.dprint()\n",
    "func = pytensor.function([z_tensor, foo, bar], [z_new])\n",
    "with pytest.raises(AssertionError):\n",
    "    func(np.zeros((3, 4)), 3, 5)\n",
    "func(np.zeros((3, 4)), 3, 4)"
   ]
  },
  {
   "cell_type": "code",
   "execution_count": 11,
   "id": "80c101fa-1c36-4cbf-a140-89d9136ad879",
   "metadata": {},
   "outputs": [],
   "source": [
    "foo = px.dim(\"foo\")\n",
    "with pytest.raises(ValueError):\n",
    "    px.xtensor(\"z\", dims=[foo, foo])"
   ]
  },
  {
   "cell_type": "code",
   "execution_count": 134,
   "id": "cde39455-8262-4e00-be37-903c654fc0a2",
   "metadata": {},
   "outputs": [],
   "source": [
    "def tensorize(inputs, outputs, *, check=True):\n",
    "    dims = {}\n",
    "    for input in inputs:\n",
    "        if isinstance(input, px.type.DimVariable):\n",
    "            dims[input.type] = input\n",
    "\n",
    "    new_inputs = []\n",
    "    replacements = []\n",
    "    for input in inputs:\n",
    "        if isinstance(input, px.type.DimVariable):\n",
    "            replacements.append((input, input))\n",
    "            new_inputs.append(input)\n",
    "        else:\n",
    "            new_input = px.basic.tensor_from_xtensor(input).type()\n",
    "            replacement = px.xtensor_from_tensor(new_input, [dims[dim.type] for dim in input.dims], check=True)\n",
    "            replacements.append((input, replacement))\n",
    "            new_inputs.append(new_input)\n",
    "\n",
    "    new_outputs = pytensor.clone_replace( outputs, replacements)\n",
    "    #new_inputs = [new_input for _, new_input in replacements]\n",
    "    return new_inputs, new_outputs"
   ]
  },
  {
   "cell_type": "code",
   "execution_count": 140,
   "id": "431d3bc3-ef15-469d-b6e3-744ef28537d4",
   "metadata": {},
   "outputs": [],
   "source": [
    "country = px.dim(\"country\")\n",
    "treatment = px.dim(\"treatment\")\n",
    "\n",
    "effect = px.xtensor(\"effect\", dims=[country, treatment])\n",
    "sigma = px.xtensor(\"sigma\", dims=[])\n",
    "observed = px.xtensor(\"observed\", dims=[treatment, country])\n",
    "\n",
    "residual = ((effect - observed) / sigma) + (effect - observed).std()"
   ]
  },
  {
   "cell_type": "code",
   "execution_count": 142,
   "id": "27b3e654-8b51-4b78-a978-fec63724cf4d",
   "metadata": {},
   "outputs": [],
   "source": [
    "inputs = [country, treatment, effect, sigma, observed]\n",
    "outputs = [residual]\n",
    "\n",
    "tensor_inputs, tensor_outputs = tensorize(inputs=inputs, outputs=outputs, check=True)\n",
    "func = pytensor.function(tensor_inputs, tensor_outputs)"
   ]
  }
 ],
 "metadata": {
  "kernelspec": {
   "display_name": "Python (Pixi)",
   "language": "python",
   "name": "pixi-kernel-python3"
  },
  "language_info": {
   "codemirror_mode": {
    "name": "ipython",
    "version": 3
   },
   "file_extension": ".py",
   "mimetype": "text/x-python",
   "name": "python",
   "nbconvert_exporter": "python",
   "pygments_lexer": "ipython3",
   "version": "3.12.10"
  }
 },
 "nbformat": 4,
 "nbformat_minor": 5
}
