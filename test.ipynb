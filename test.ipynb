{
 "cells": [
  {
   "cell_type": "code",
   "execution_count": 20,
   "metadata": {},
   "outputs": [
    {
     "name": "stdout",
     "output_type": "stream",
     "text": [
      "The output file is available at ./pics/symbolic_graph_rewrite.png\n"
     ]
    }
   ],
   "source": [
    "import pytensor\n",
    "import pytensor.tensor as pt\n",
    "import numpy as np\n",
    "from pytensor.tensor.type import matrix\n",
    "from pytensor.tensor.linalg import svd\n",
    "\n",
    "a_pt = matrix(\"a\")\n",
    "s = svd(a_pt, full_matrices=False, compute_uv=False)\n",
    "J, updates = pytensor.scan(lambda i, s, a_pt : pt.grad(s[i], a_pt), sequences=pt.arange(s.shape[0]), non_sequences=[s, a_pt])\n",
    "f = pytensor.function([a_pt], J, updates=updates)\n",
    "f([[1, 2], [3, 4]])\n",
    "pytensor.printing.pydotprint(f, outfile=\"./pics/symbolic_graph_rewrite.png\", var_with_name_simple=True)"
   ]
  }
 ],
 "metadata": {
  "kernelspec": {
   "display_name": "pytensor-dev",
   "language": "python",
   "name": "python3"
  },
  "language_info": {
   "codemirror_mode": {
    "name": "ipython",
    "version": 3
   },
   "file_extension": ".py",
   "mimetype": "text/x-python",
   "name": "python",
   "nbconvert_exporter": "python",
   "pygments_lexer": "ipython3",
   "version": "3.11.9"
  }
 },
 "nbformat": 4,
 "nbformat_minor": 2
}
